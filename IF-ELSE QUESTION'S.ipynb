{
 "cells": [
  {
   "cell_type": "markdown",
   "id": "afa32f94",
   "metadata": {},
   "source": [
    " #                               IF-ELSE Problems in Python"
   ]
  },
  {
   "cell_type": "markdown",
   "id": "b9fac705",
   "metadata": {},
   "source": [
    "# Question 1 – Minimum/Maximum"
   ]
  },
  {
   "cell_type": "code",
   "execution_count": 4,
   "id": "f706dc54",
   "metadata": {},
   "outputs": [
    {
     "name": "stdout",
     "output_type": "stream",
     "text": [
      "Enter First Number = 10\n",
      "Enter Second Number = 1\n",
      "1 is smaller number\n",
      "10 is larger number\n"
     ]
    }
   ],
   "source": [
    "x = int(input(\"Enter First Number = \"))\n",
    "y = int(input(\"Enter Second Number = \"))\n",
    "if(x<y):\n",
    "    print(x,\"is smaller number\")\n",
    "    print(y,\"is larger number\")\n",
    "else:\n",
    "     print(y,\"is smaller number\")\n",
    "     print(x,\"is larger number\")\n",
    "    "
   ]
  },
  {
   "cell_type": "markdown",
   "id": "4c7524e8",
   "metadata": {},
   "source": [
    "# Question 2 – Roman Numeral Converter\n"
   ]
  },
  {
   "cell_type": "code",
   "execution_count": 5,
   "id": "4cfc5d52",
   "metadata": {},
   "outputs": [
    {
     "name": "stdout",
     "output_type": "stream",
     "text": [
      "Enter Number = 2\n",
      "2  is II\n"
     ]
    }
   ],
   "source": [
    "x = int(input(\"Enter Number = \"))\n",
    "if (x>=1 or x <=10):\n",
    "    if x==1:\n",
    "        print(x,\" is I\")\n",
    "    elif x==2:\n",
    "         print(x,\" is II\")\n",
    "    elif x==3:\n",
    "         print(x,\" is III\")\n",
    "    elif x==4:\n",
    "         print(x,\" is IV\")\n",
    "    elif x==5:\n",
    "        print(x,\" is V\")\n",
    "    elif x==6:\n",
    "        print(x,\" is VI\")\n",
    "    elif x==8:\n",
    "        print(x,\" is VII\")\n",
    "    elif x==8:\n",
    "        print(x,\" is VIII\")\n",
    "    elif x==9:\n",
    "        print(x,\" is IX\")\n",
    "    elif x==10:\n",
    "        print(x,\" is X\")\n",
    "    elif x <1:\n",
    "        print(\" Number is less than 1 \")\n",
    "    elif x > 10:\n",
    "        print(\" Number is greater than 10 \")\n",
    "\n",
    "            "
   ]
  },
  {
   "cell_type": "markdown",
   "id": "60b440b9",
   "metadata": {},
   "source": [
    "# Question 3 – Magic Dates"
   ]
  },
  {
   "cell_type": "code",
   "execution_count": 43,
   "id": "3bfbf022",
   "metadata": {},
   "outputs": [
    {
     "name": "stdout",
     "output_type": "stream",
     "text": [
      "Enter the month from 1 thru 12 = 10\n",
      "Enter the day from 1 thru 31 = 6\n",
      "Enter the year = 60\n",
      "10 / 6 / 60 is Magic \n",
      "\n"
     ]
    }
   ],
   "source": [
    "month = int(input(\"Enter the month from 1 thru 12 = \"))\n",
    "day = int(input(\"Enter the day from 1 thru 31 = \"))\n",
    "year = int(input(\"Enter the year = \"))\n",
    "if ((month * day) == year):\n",
    "                 print(month,\"/\",day,\"/\",year,\"is Magic \\n\")\n",
    "else:\n",
    "                 print(month,\"/\",day,\"/\",year,\"is not Magic \\n\")\n",
    "\n"
   ]
  },
  {
   "cell_type": "markdown",
   "id": "bf343d89",
   "metadata": {},
   "source": [
    "# Question 4 – Areas of Rectangles"
   ]
  },
  {
   "cell_type": "code",
   "execution_count": 7,
   "id": "0153f7e3",
   "metadata": {},
   "outputs": [
    {
     "name": "stdout",
     "output_type": "stream",
     "text": [
      "Enter Length of First Rectangle = 10\n",
      "Enter Width of First Rectangle 10\n",
      "Enter Length of Second Rectangle = 10\n",
      "Enter Width of Second Rectangle 10\n",
      "Area of both rectangle is Equal \n"
     ]
    }
   ],
   "source": [
    "x = int(input(\"Enter Length of First Rectangle = \"))\n",
    "y = int(input(\"Enter Width of First Rectangle \"))\n",
    "a = int(input(\"Enter Length of Second Rectangle = \"))\n",
    "b = int(input(\"Enter Width of Second Rectangle \"))\n",
    "\n",
    "area1 = x*y\n",
    "area2=a*b\n",
    "if(area1>area2):\n",
    "    print(\"Area of first rectangle is greater \")\n",
    "elif (area2>area1):\n",
    "    print(\"Area of second rectangle is greater \")\n",
    "elif(area1==area2):\n",
    "    print(\"Area of both rectangle is Equal \")"
   ]
  },
  {
   "cell_type": "markdown",
   "id": "3ad5a6f2",
   "metadata": {},
   "source": [
    "# Question 5 – Book Club Points"
   ]
  },
  {
   "cell_type": "code",
   "execution_count": 8,
   "id": "d6e90722",
   "metadata": {},
   "outputs": [
    {
     "name": "stdout",
     "output_type": "stream",
     "text": [
      "Enter the number of books purchased this month = 1\n",
      "Points are awarded is 5 \n"
     ]
    }
   ],
   "source": [
    "x = int(input(\"Enter the number of books purchased this month = \"))\n",
    "if(x == 0):\n",
    "    print(\"Points are awarded is 0 \")\n",
    "elif (x ==1):\n",
    "    print(\"Points are awarded is 5 \")\n",
    "\n",
    "elif (x ==2):\n",
    "    print(\"Points are awarded is 15 \")\n",
    "    \n",
    "elif (x ==3):\n",
    "    print(\"Points are awarded is 30 \")\n",
    "    \n",
    "elif (x >=4):\n",
    "    print(\"Points are awarded is 60 \")"
   ]
  },
  {
   "cell_type": "markdown",
   "id": "49420979",
   "metadata": {},
   "source": [
    "# Question 6 – Mass and Weight"
   ]
  },
  {
   "cell_type": "code",
   "execution_count": 9,
   "id": "1e6e5956",
   "metadata": {},
   "outputs": [
    {
     "name": "stdout",
     "output_type": "stream",
     "text": [
      "Enter an object’s mass = 10\n",
      "Weigth =  98.0  N \n"
     ]
    }
   ],
   "source": [
    "w=0\n",
    "mass = int(input(\"Enter an object’s mass = \"))\n",
    "weight = mass * 9.8\n",
    "print(\"Weigth = \" ,weight ,\" N \")\n",
    "\n",
    "if(weight > 1000):\n",
    "    print(\"Object is too heavy \")\n",
    "elif(weight < 10):\n",
    "    print(\"Object is too light \")"
   ]
  },
  {
   "cell_type": "markdown",
   "id": "c0c71f5f",
   "metadata": {},
   "source": [
    "# Question 7 – Time Calculator"
   ]
  },
  {
   "cell_type": "code",
   "execution_count": 9,
   "id": "d3f36e95",
   "metadata": {},
   "outputs": [
    {
     "name": "stdout",
     "output_type": "stream",
     "text": [
      "Enter a number of seconds = 120\n",
      "Minutes =  2\n"
     ]
    }
   ],
   "source": [
    "t = int(input(\"Enter a number of seconds = \"))\n",
    "if(t >=  86400):\n",
    "    d = t//86400\n",
    "    print(\"Days = \", d)\n",
    "    \n",
    "elif(t <  86400 and t>=3600):\n",
    "    d = t//3600\n",
    "    print(\"Hours = \", d)\n",
    "    \n",
    "elif(t <  3600 and t >= 60 ):\n",
    "    d = t//60\n",
    "    print(\"Minutes = \", d)\n",
    "    "
   ]
  },
  {
   "cell_type": "markdown",
   "id": "53deefac",
   "metadata": {},
   "source": [
    "# Question 8 – Math Tutor\n"
   ]
  },
  {
   "cell_type": "code",
   "execution_count": null,
   "id": "2947b77a",
   "metadata": {},
   "outputs": [],
   "source": []
  },
  {
   "cell_type": "markdown",
   "id": "00e8fff3",
   "metadata": {},
   "source": [
    "# Question 9 – Software Sales"
   ]
  },
  {
   "cell_type": "code",
   "execution_count": 11,
   "id": "5e31582e",
   "metadata": {},
   "outputs": [
    {
     "name": "stdout",
     "output_type": "stream",
     "text": [
      "Enter no of packages purchased = 9\n",
      "Package total = $ 891.0\n",
      "Discount Percentage =  0 %\n",
      "Discount amount = $ 0.0\n",
      "Grand total  = $ 891.0\n"
     ]
    }
   ],
   "source": [
    "PRICE_PER_PACKAGE = 99.00\n",
    "\n",
    "num_packages = float(input('Enter no of packages purchased = '))\n",
    "\n",
    "if num_packages < 0:\n",
    "    print(\"Error!of packages must be greater than 0.\\n\")\n",
    "else:\n",
    "    discount_percentage = 0\n",
    "\n",
    "    if num_packages < 10:\n",
    "        discount_percentage = 0\n",
    "    elif num_packages >= 10 and num_packages <= 19:\n",
    "        discount_percentage = .20\n",
    "    elif num_packages >= 20 and num_packages <= 49:\n",
    "        discount_percentage = .30 \n",
    "    elif num_packages >= 50 and num_packages <= 99:\n",
    "        discount_percentage = .40\n",
    "    elif num_packages >= 100:\n",
    "        discount_percentage = .50\n",
    "    \n",
    "    package_total = num_packages * PRICE_PER_PACKAGE\n",
    "    discount_amount = (package_total) * discount_percentage\n",
    "    grand_total = package_total - discount_amount\n",
    "\n",
    "print(\"Package total = $\",package_total)\n",
    "print(\"Discount Percentage = \",discount_percentage*100,\"%\")\n",
    "print(\"Discount amount = $\",discount_amount)\n",
    "print(\"Grand total  = $\",grand_total)"
   ]
  },
  {
   "cell_type": "markdown",
   "id": "11cb49a8",
   "metadata": {},
   "source": [
    "# Question 10 – Bank Charges"
   ]
  },
  {
   "cell_type": "code",
   "execution_count": 22,
   "id": "6ddfc733",
   "metadata": {},
   "outputs": [
    {
     "name": "stdout",
     "output_type": "stream",
     "text": [
      "Enter number of checks written this month = 20\n",
      "Fees =  11.6\n"
     ]
    }
   ],
   "source": [
    "checks = int(input(\"Enter number of checks written this month = \"))\n",
    "if(checks<0):\n",
    "    print(\"Error! checks must be greater than 0\")\n",
    "else:\n",
    "    if (checks == 0 and checks < 20):\n",
    "        charges = checks * 0.10\n",
    "    elif (checks == 20 and checks <=39):\n",
    "        charges = checks * 0.08  \n",
    "    elif (checks == 40 and checks <= 59):\n",
    "        charges = checks * 0.06\n",
    "    elif (checks <= 60):\n",
    "        charges = checks * 0.04\n",
    "    fee = charges+10\n",
    "    print(\"Fees = \" ,fee)\n",
    "    "
   ]
  },
  {
   "cell_type": "markdown",
   "id": "c339bb1e",
   "metadata": {},
   "source": [
    "# Question 11 – Geometry Calculator"
   ]
  },
  {
   "cell_type": "code",
   "execution_count": 32,
   "id": "64f1d689",
   "metadata": {},
   "outputs": [
    {
     "name": "stdout",
     "output_type": "stream",
     "text": [
      "1. Calculate the Area of a Circle\n",
      "2. Calculate the Area of a Rectangle\n",
      "3. Calculate the Area of a Triangle\n",
      "4. Quit\n",
      "Enter value = 4\n",
      "Program ended........!\n"
     ]
    }
   ],
   "source": [
    "print(\"1. Calculate the Area of a Circle\")\n",
    "print(\"2. Calculate the Area of a Rectangle\")\n",
    "print(\"3. Calculate the Area of a Triangle\")\n",
    "print(\"4. Quit\")\n",
    "choice = int(input(\"Enter value = \"))\n",
    "if(choice == 1):\n",
    "    x = float(input(\"Enter radius of the circle = \"))\n",
    "    area= 3.14*x*x\n",
    "    print(\"Area of a circle = \", area)\n",
    "elif(choice == 2):\n",
    "    x = float(input(\"Enter Length of Rectangle = \"))\n",
    "    y = float(input(\"Enter Width of Rectangle = \"))\n",
    "    area = x*y\n",
    "    print(\"Area of a Rectangle = \", area)\n",
    "elif(choice ==3):\n",
    "    x = float(input(\"Enter base of triangle = \"))\n",
    "    y = float(input(\"Enter height of triangle = \"))\n",
    "    area = 0.5*x*y\n",
    "    print(\"Area of a Triangle = \", area)\n",
    "elif(choice == 4):\n",
    "    print(\"Program ended........!\")\n",
    "else:\n",
    "    print(\"You have entered wrong input\")\n",
    "    \n",
    "    \n",
    "    "
   ]
  },
  {
   "cell_type": "markdown",
   "id": "01b8d5e7",
   "metadata": {},
   "source": [
    "# Question 12 – Running the Race"
   ]
  },
  {
   "cell_type": "code",
   "execution_count": 34,
   "id": "9f92eae7",
   "metadata": {},
   "outputs": [
    {
     "name": "stdout",
     "output_type": "stream",
     "text": [
      "Enter Name of first racer = fd\n",
      " Enter time of first racer =-2\n",
      "Enter Name of second racer = ds\n",
      " Enter time of second racer =2\n",
      "Enter Name of third racer = fs2z\n",
      " Enter time of third racer =2\n",
      "Error. Runner times must be\n",
      " 0 or greater.\n",
      " Rerun the program and try again.\n"
     ]
    }
   ],
   "source": [
    "name1=input(\"Enter Name of first racer = \")\n",
    "time1=float(input(\" Enter time of first racer =\"))\n",
    "name2=input(\"Enter Name of second racer = \")\n",
    "time2=float(input(\" Enter time of second racer =\"))\n",
    "name3=input(\"Enter Name of third racer = \")\n",
    "time3=float(input(\" Enter time of third racer =\"))\n",
    "if (time1 < 0 or time2 < 0 or time3 < 0):\n",
    "    print(\"Error. Runner times must be\\n 0 or greater.\\n Rerun the program and try again.\")\n",
    "else:\n",
    "    if (time1 > time2):\n",
    "        if (time1 > runner_3_time)\n",
    "            {\n",
    "                cout << \"\\nFirst Place: \" \n",
    "                     << runner_1 << \" @ \" \n",
    "                     << runner_1_time \n",
    "                     << endl;\n",
    "                if (runner_2_time > runner_3_time)\n",
    "                {\n",
    "                    cout << \"Second Place: \" \n",
    "                         << runner_2 << \" @ \" \n",
    "                         << runner_2_time \n",
    "                         << endl;\n",
    "                    cout << \"Third Place: \" \n",
    "                         << runner_3 << \" @ \" \n",
    "                         << runner_3_time \n",
    "                         << endl;\n",
    "                }\n",
    "                else\n",
    "                {\n",
    "                    cout << \"Second Place: \" \n",
    "                         << runner_3 << \" @ \" \n",
    "                         << runner_3_time \n",
    "                         << endl;\n",
    "                    cout << \"Third Place: \" \n",
    "                         << runner_2 << \" @ \" \n",
    "                         << runner_2_time \n",
    "                         << endl;\n",
    "                }\n",
    "            }\n",
    "        }"
   ]
  },
  {
   "cell_type": "markdown",
   "id": "1538c43d",
   "metadata": {},
   "source": [
    "# Question 13 – Personal Best"
   ]
  },
  {
   "cell_type": "code",
   "execution_count": null,
   "id": "c03083e3",
   "metadata": {},
   "outputs": [],
   "source": []
  },
  {
   "cell_type": "markdown",
   "id": "337e74e2",
   "metadata": {},
   "source": [
    "# Question 14 – Body Mass Index"
   ]
  },
  {
   "cell_type": "code",
   "execution_count": 1,
   "id": "98370728",
   "metadata": {},
   "outputs": [
    {
     "name": "stdout",
     "output_type": "stream",
     "text": [
      "Enter weight (in pounds): 50\n",
      "Enter height (in inches): 25\n",
      "Your weight is considered overweight \n",
      " Your BMI =  56.24\n"
     ]
    }
   ],
   "source": [
    "weight = float(input(\"Enter weight (in pounds): \"))\n",
    "height = float(input(\"Enter height (in inches): \"))\n",
    "\n",
    "BMI = (weight * (703 / (height**2)))\n",
    "\n",
    "if BMI >= 18.5 and BMI <= 25:\n",
    "    print(\"Your weight is considered optimal weight \")\n",
    "    print(\" Your BMI = \",BMI)\n",
    "elif BMI < 18.5:\n",
    "    print(\"Your weight is considered underweight \")\n",
    "    print(\" Your BMI = \",BMI)\n",
    "elif BMI > 25:\n",
    "    print(\"Your weight is considered overweight \")\n",
    "    print(\" Your BMI = \",BMI)"
   ]
  },
  {
   "cell_type": "markdown",
   "id": "74018d33",
   "metadata": {},
   "source": []
  },
  {
   "cell_type": "code",
   "execution_count": null,
   "id": "050e747b",
   "metadata": {},
   "outputs": [],
   "source": []
  },
  {
   "cell_type": "markdown",
   "id": "6fc06e96",
   "metadata": {},
   "source": []
  },
  {
   "cell_type": "code",
   "execution_count": null,
   "id": "80929e61",
   "metadata": {},
   "outputs": [],
   "source": []
  },
  {
   "cell_type": "markdown",
   "id": "e3ce45d5",
   "metadata": {},
   "source": []
  },
  {
   "cell_type": "code",
   "execution_count": null,
   "id": "15c98d22",
   "metadata": {},
   "outputs": [],
   "source": []
  },
  {
   "cell_type": "markdown",
   "id": "9ef1eba8",
   "metadata": {},
   "source": []
  },
  {
   "cell_type": "code",
   "execution_count": null,
   "id": "d5e5ecee",
   "metadata": {},
   "outputs": [],
   "source": []
  },
  {
   "cell_type": "markdown",
   "id": "c8749e8b",
   "metadata": {},
   "source": []
  },
  {
   "cell_type": "code",
   "execution_count": null,
   "id": "b11642cc",
   "metadata": {},
   "outputs": [],
   "source": []
  },
  {
   "cell_type": "markdown",
   "id": "13312db6",
   "metadata": {},
   "source": []
  },
  {
   "cell_type": "code",
   "execution_count": null,
   "id": "655804f0",
   "metadata": {},
   "outputs": [],
   "source": []
  },
  {
   "cell_type": "markdown",
   "id": "8794d425",
   "metadata": {},
   "source": []
  },
  {
   "cell_type": "code",
   "execution_count": null,
   "id": "e6cf9ae5",
   "metadata": {},
   "outputs": [],
   "source": []
  },
  {
   "cell_type": "code",
   "execution_count": null,
   "id": "06b135f1",
   "metadata": {},
   "outputs": [],
   "source": []
  }
 ],
 "metadata": {
  "kernelspec": {
   "display_name": "Python 3 (ipykernel)",
   "language": "python",
   "name": "python3"
  },
  "language_info": {
   "codemirror_mode": {
    "name": "ipython",
    "version": 3
   },
   "file_extension": ".py",
   "mimetype": "text/x-python",
   "name": "python",
   "nbconvert_exporter": "python",
   "pygments_lexer": "ipython3",
   "version": "3.9.7"
  }
 },
 "nbformat": 4,
 "nbformat_minor": 5
}
